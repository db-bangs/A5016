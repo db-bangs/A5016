{
 "cells": [
  {
   "cell_type": "markdown",
   "id": "991d3d20",
   "metadata": {},
   "source": [
    "## SVM Classification"
   ]
  },
  {
   "cell_type": "code",
   "execution_count": 1,
   "id": "fcddaed4",
   "metadata": {},
   "outputs": [],
   "source": [
    "## Initialize Libraries\n",
    "import time\n",
    "import pandas as pd\n",
    "import numpy as np\n",
    "import matplotlib.pyplot as plt\n",
    "import seaborn as sns\n",
    "from sklearn.model_selection import train_test_split\n",
    "from sklearn.svm import SVC\n",
    "from sklearn.svm import  LinearSVC\n",
    "from sklearn.metrics import confusion_matrix\n",
    "from sklearn.metrics import precision_recall_fscore_support,recall_score,accuracy_score\n",
    "from sklearn.model_selection import GridSearchCV\n",
    "\n",
    "sns.set(style=\"whitegrid\", color_codes=True)\n",
    "import itertools\n",
    "%matplotlib inline  "
   ]
  },
  {
   "cell_type": "code",
   "execution_count": 2,
   "id": "c8be7986",
   "metadata": {},
   "outputs": [],
   "source": [
    "## Define Confusion Matrix Function\n",
    "def plot_confusion_matrix(cm, classes,\n",
    "                          normalize=False,\n",
    "                          title='Confusion matrix',\n",
    "                          cmap=plt.cm.Blues):\n",
    "    \"\"\"\n",
    "    This function prints and plots the confusion matrix.\n",
    "    Normalization can be applied by setting `normalize=True`.\n",
    "    \"\"\"\n",
    "    plt.imshow(cm, interpolation='nearest', cmap=cmap)\n",
    "    plt.title(title)\n",
    "    plt.colorbar()\n",
    "    tick_marks = np.arange(len(classes))\n",
    "    plt.xticks(tick_marks, classes, rotation=45)\n",
    "    plt.yticks(tick_marks, classes)\n",
    "\n",
    "    if normalize:\n",
    "        cm = cm.astype('float') / cm.sum(axis=1)[:, np.newaxis]\n",
    "        print(\"Normalized confusion matrix\")\n",
    "    else:\n",
    "        print('Confusion matrix, without normalization')\n",
    "\n",
    "    print(cm)\n",
    "\n",
    "    thresh = 3*cm.max()/4\n",
    "    for i, j in itertools.product(range(cm.shape[0]), range(cm.shape[1])):\n",
    "        plt.text(j, i, cm[i, j],\n",
    "                 horizontalalignment=\"center\",\n",
    "                 color=\"white\" if cm[i, j] > thresh else \"black\")\n",
    "\n",
    "    plt.tight_layout()\n",
    "    plt.ylabel('True label')\n",
    "    plt.xlabel('Predicted label')\n",
    "\n",
    "def pretty_metrics(precision_recall_fscore=0,accuracy_score=0):\n",
    "    if precision_recall_fscore==0:\n",
    "        metric_dict={'accuracy':[],'precision':[],'recall':[],'F1':[]}\n",
    "        return metric_dict\n",
    "    #This function prints out the precision, recall,f-score and accuracy is also saves the result to a dictionary \n",
    "    metric_dict={'accuracy':[],'precision':[],'recall':[],'F1':[]}\n",
    "    metric_dict['accuracy']=accuracy_score\n",
    "    metric_dict['precision']=precision_recall_fscore[0][1]\n",
    "    metric_dict['recall']=precision_recall_fscore[1][1]\n",
    "    metric_dict['F1']=precision_recall_fscore[2][1]\n",
    "    [print(key,value) for key, value in metric_dict.items()]\n",
    "    return metric_dict\n",
    "\n",
    "\n",
    "def Norm(x):\n",
    "    return((x-x.mean())/x.std())"
   ]
  },
  {
   "cell_type": "code",
   "execution_count": 3,
   "id": "712145ed",
   "metadata": {},
   "outputs": [],
   "source": [
    "## Load the CSV file\n",
    "data_file = 'https://raw.githubusercontent.com/db-bangs/A5016/main/d20130924_refl_ndvi_sk.csv'\n",
    "crop_data = pd.read_csv(data_file, sep = \",\")"
   ]
  },
  {
   "cell_type": "code",
   "execution_count": 4,
   "id": "679d7d3f",
   "metadata": {},
   "outputs": [
    {
     "data": {
      "text/html": [
       "<div>\n",
       "<style scoped>\n",
       "    .dataframe tbody tr th:only-of-type {\n",
       "        vertical-align: middle;\n",
       "    }\n",
       "\n",
       "    .dataframe tbody tr th {\n",
       "        vertical-align: top;\n",
       "    }\n",
       "\n",
       "    .dataframe thead th {\n",
       "        text-align: right;\n",
       "    }\n",
       "</style>\n",
       "<table border=\"1\" class=\"dataframe\">\n",
       "  <thead>\n",
       "    <tr style=\"text-align: right;\">\n",
       "      <th></th>\n",
       "      <th>X</th>\n",
       "      <th>V1</th>\n",
       "      <th>V2</th>\n",
       "      <th>V3</th>\n",
       "      <th>V4</th>\n",
       "      <th>V5</th>\n",
       "      <th>V6</th>\n",
       "      <th>V7</th>\n",
       "      <th>V8</th>\n",
       "      <th>Crop</th>\n",
       "      <th>NDVI_sd</th>\n",
       "      <th>NDVI_kt</th>\n",
       "      <th>NDVI_sk</th>\n",
       "      <th>NDVI</th>\n",
       "    </tr>\n",
       "  </thead>\n",
       "  <tbody>\n",
       "    <tr>\n",
       "      <th>0</th>\n",
       "      <td>1</td>\n",
       "      <td>0.08029</td>\n",
       "      <td>0.06889</td>\n",
       "      <td>0.05869</td>\n",
       "      <td>0.06374</td>\n",
       "      <td>0.10378</td>\n",
       "      <td>0.00082</td>\n",
       "      <td>0.12382</td>\n",
       "      <td>0.09167</td>\n",
       "      <td>Soybeans</td>\n",
       "      <td>0.007589</td>\n",
       "      <td>-0.652732</td>\n",
       "      <td>0.199005</td>\n",
       "      <td>0.238687</td>\n",
       "    </tr>\n",
       "    <tr>\n",
       "      <th>1</th>\n",
       "      <td>2</td>\n",
       "      <td>0.07644</td>\n",
       "      <td>0.06332</td>\n",
       "      <td>0.05888</td>\n",
       "      <td>0.04370</td>\n",
       "      <td>0.20840</td>\n",
       "      <td>0.00084</td>\n",
       "      <td>0.12492</td>\n",
       "      <td>0.06994</td>\n",
       "      <td>Corn</td>\n",
       "      <td>0.047886</td>\n",
       "      <td>0.441504</td>\n",
       "      <td>-0.213983</td>\n",
       "      <td>0.656629</td>\n",
       "    </tr>\n",
       "    <tr>\n",
       "      <th>2</th>\n",
       "      <td>3</td>\n",
       "      <td>0.07460</td>\n",
       "      <td>0.06156</td>\n",
       "      <td>0.05488</td>\n",
       "      <td>0.04416</td>\n",
       "      <td>0.18868</td>\n",
       "      <td>0.00096</td>\n",
       "      <td>0.11252</td>\n",
       "      <td>0.06026</td>\n",
       "      <td>Soybeans</td>\n",
       "      <td>0.075923</td>\n",
       "      <td>2.905492</td>\n",
       "      <td>-1.653555</td>\n",
       "      <td>0.619788</td>\n",
       "    </tr>\n",
       "    <tr>\n",
       "      <th>3</th>\n",
       "      <td>4</td>\n",
       "      <td>0.07514</td>\n",
       "      <td>0.06348</td>\n",
       "      <td>0.05306</td>\n",
       "      <td>0.05266</td>\n",
       "      <td>0.11797</td>\n",
       "      <td>0.00088</td>\n",
       "      <td>0.12423</td>\n",
       "      <td>0.08217</td>\n",
       "      <td>Corn</td>\n",
       "      <td>0.063182</td>\n",
       "      <td>-0.995496</td>\n",
       "      <td>-0.037232</td>\n",
       "      <td>0.380169</td>\n",
       "    </tr>\n",
       "    <tr>\n",
       "      <th>4</th>\n",
       "      <td>5</td>\n",
       "      <td>0.08060</td>\n",
       "      <td>0.06930</td>\n",
       "      <td>0.05936</td>\n",
       "      <td>0.06480</td>\n",
       "      <td>0.10532</td>\n",
       "      <td>0.00088</td>\n",
       "      <td>0.12530</td>\n",
       "      <td>0.09204</td>\n",
       "      <td>Soybeans</td>\n",
       "      <td>0.010109</td>\n",
       "      <td>-0.441190</td>\n",
       "      <td>0.433803</td>\n",
       "      <td>0.237682</td>\n",
       "    </tr>\n",
       "  </tbody>\n",
       "</table>\n",
       "</div>"
      ],
      "text/plain": [
       "   X       V1       V2       V3       V4       V5       V6       V7       V8  \\\n",
       "0  1  0.08029  0.06889  0.05869  0.06374  0.10378  0.00082  0.12382  0.09167   \n",
       "1  2  0.07644  0.06332  0.05888  0.04370  0.20840  0.00084  0.12492  0.06994   \n",
       "2  3  0.07460  0.06156  0.05488  0.04416  0.18868  0.00096  0.11252  0.06026   \n",
       "3  4  0.07514  0.06348  0.05306  0.05266  0.11797  0.00088  0.12423  0.08217   \n",
       "4  5  0.08060  0.06930  0.05936  0.06480  0.10532  0.00088  0.12530  0.09204   \n",
       "\n",
       "       Crop   NDVI_sd   NDVI_kt   NDVI_sk      NDVI  \n",
       "0  Soybeans  0.007589 -0.652732  0.199005  0.238687  \n",
       "1      Corn  0.047886  0.441504 -0.213983  0.656629  \n",
       "2  Soybeans  0.075923  2.905492 -1.653555  0.619788  \n",
       "3      Corn  0.063182 -0.995496 -0.037232  0.380169  \n",
       "4  Soybeans  0.010109 -0.441190  0.433803  0.237682  "
      ]
     },
     "execution_count": 4,
     "metadata": {},
     "output_type": "execute_result"
    }
   ],
   "source": [
    "crop_data.head()"
   ]
  },
  {
   "cell_type": "markdown",
   "id": "22f5780d",
   "metadata": {},
   "source": [
    "#### Classification: 7 Bands Reflectance"
   ]
  },
  {
   "cell_type": "code",
   "execution_count": 20,
   "id": "c0e6ad76",
   "metadata": {},
   "outputs": [
    {
     "name": "stdout",
     "output_type": "stream",
     "text": [
      "time: 0.014856338500976562  sec\n",
      "time: 0.015582561492919922  sec\n",
      "accuracy 0.8\n",
      "precision 0.725\n",
      "recall 0.8613861386138614\n",
      "F1 0.7873303167420814\n",
      "Confusion matrix, without normalization\n",
      "[[118  11  11]\n",
      " [ 20  87  13]\n",
      " [  4   3  43]]\n"
     ]
    },
    {
     "name": "stderr",
     "output_type": "stream",
     "text": [
      "C:\\Users\\debangs\\AppData\\Local\\Temp\\ipykernel_14584\\3038309493.py:12: MatplotlibDeprecationWarning: Auto-removal of grids by pcolor() and pcolormesh() is deprecated since 3.5 and will be removed two minor releases later; please call grid(False) first.\n",
      "  plt.colorbar()\n"
     ]
    },
    {
     "data": {
      "image/png": "[encoded data removed]",
      "text/plain": [
       "<Figure size 432x288 with 2 Axes>"
      ]
     },
     "metadata": {
      "needs_background": "light"
     },
     "output_type": "display_data"
    }
   ],
   "source": [
    "## Test-Train Split\n",
    "X = crop_data[['V1', 'V2', 'V3', 'V4', 'V5', 'V6', 'V7']]\n",
    "y = crop_data[['Crop']]\n",
    "\n",
    "X_train, X_test, y_train, y_test = train_test_split(X, y, test_size=1/3,random_state=0)\n",
    "\n",
    "SVM=SVC(C=10, kernel='rbf',cache_size=600)\n",
    "\n",
    "startTime=time.time()\n",
    "SVM.fit(X_train,y_train.values.ravel())\n",
    "lapsedTime = time.time() - startTime\n",
    "print('time:',lapsedTime,' sec' )\n",
    "\n",
    "startTime=time.time()\n",
    "yhat=SVM.predict(X_test)\n",
    "lapsedTime = time.time() - startTime\n",
    "print('time:',lapsedTime,' sec' )\n",
    "yhat[0:5]\n",
    "\n",
    "prf1=precision_recall_fscore_support(y_test,yhat)\n",
    "acc=accuracy_score(y_test,yhat)\n",
    "metric=pretty_metrics(precision_recall_fscore=prf1,accuracy_score=acc)\n",
    "\n",
    "target_names = ['Corn', 'Soybeans', 'Winter Wheat']\n",
    "plot_confusion_matrix(confusion_matrix(yhat,y_test),\n",
    "                      classes=target_names,title='Confusion matrix')"
   ]
  },
  {
   "cell_type": "markdown",
   "id": "0d1b3620",
   "metadata": {},
   "source": [
    "#### Classification 5 Bands + NDVI"
   ]
  },
  {
   "cell_type": "code",
   "execution_count": 19,
   "id": "648f848a",
   "metadata": {},
   "outputs": [
    {
     "name": "stdout",
     "output_type": "stream",
     "text": [
      "time: 0.016684293746948242  sec\n",
      "time: 0.01192474365234375  sec\n",
      "accuracy 0.7903225806451613\n",
      "precision 0.7073170731707317\n",
      "recall 0.8613861386138614\n",
      "F1 0.7767857142857142\n",
      "Confusion matrix, without normalization\n",
      "[[117  11  12]\n",
      " [ 22  87  14]\n",
      " [  3   3  41]]\n"
     ]
    },
    {
     "name": "stderr",
     "output_type": "stream",
     "text": [
      "C:\\Users\\debangs\\AppData\\Local\\Temp\\ipykernel_14584\\3038309493.py:12: MatplotlibDeprecationWarning: Auto-removal of grids by pcolor() and pcolormesh() is deprecated since 3.5 and will be removed two minor releases later; please call grid(False) first.\n",
      "  plt.colorbar()\n"
     ]
    },
    {
     "data": {
      "image/png": "[encoded data removed]",
      "text/plain": [
       "<Figure size 432x288 with 2 Axes>"
      ]
     },
     "metadata": {
      "needs_background": "light"
     },
     "output_type": "display_data"
    }
   ],
   "source": [
    "## Test-Train Split\n",
    "X = crop_data[['V1', 'V2', 'V3', 'V6', 'V7', 'NDVI']]\n",
    "y = crop_data[['Crop']]\n",
    "\n",
    "X_train, X_test, y_train, y_test = train_test_split(X, y, test_size=1/3,random_state=0)\n",
    "\n",
    "SVM=SVC(C=10, kernel='rbf',cache_size=600)\n",
    "\n",
    "startTime=time.time()\n",
    "# this is where we fit the model  \n",
    "SVM.fit(X_train,y_train.values.ravel())\n",
    "lapsedTime = time.time() - startTime\n",
    "print('time:',lapsedTime,' sec' )\n",
    "\n",
    "startTime=time.time()\n",
    "# this is where we fit the model  \n",
    "yhat=SVM.predict(X_test)\n",
    "lapsedTime = time.time() - startTime\n",
    "print('time:',lapsedTime,' sec' )\n",
    "yhat[0:5]\n",
    "\n",
    "prf1=precision_recall_fscore_support(y_test,yhat)\n",
    "acc=accuracy_score(y_test,yhat)\n",
    "metric=pretty_metrics(precision_recall_fscore=prf1,accuracy_score=acc)\n",
    "\n",
    "target_names = ['Corn', 'Soybeans', 'Winter Wheat']\n",
    "plot_confusion_matrix(confusion_matrix(yhat,y_test),\n",
    "                      classes=target_names,title='Confusion matrix')"
   ]
  },
  {
   "cell_type": "markdown",
   "id": "764da8a5",
   "metadata": {},
   "source": [
    "#### Classification 5 Bands + NDVI + Skew"
   ]
  },
  {
   "cell_type": "code",
   "execution_count": 18,
   "id": "53b3474e",
   "metadata": {},
   "outputs": [
    {
     "name": "stdout",
     "output_type": "stream",
     "text": [
      "time: 0.031301259994506836  sec\n",
      "time: 0.02011704444885254  sec\n",
      "accuracy 0.6612903225806451\n",
      "precision 0.6268656716417911\n",
      "recall 0.8316831683168316\n",
      "F1 0.7148936170212766\n",
      "Confusion matrix, without normalization\n",
      "[[120  15  38]\n",
      " [ 22  84  28]\n",
      " [  0   2   1]]\n"
     ]
    },
    {
     "name": "stderr",
     "output_type": "stream",
     "text": [
      "C:\\Users\\debangs\\AppData\\Local\\Temp\\ipykernel_14584\\3038309493.py:12: MatplotlibDeprecationWarning: Auto-removal of grids by pcolor() and pcolormesh() is deprecated since 3.5 and will be removed two minor releases later; please call grid(False) first.\n",
      "  plt.colorbar()\n"
     ]
    },
    {
     "data": {
      "image/png": "[encoded data removed]",
      "text/plain": [
       "<Figure size 432x288 with 2 Axes>"
      ]
     },
     "metadata": {
      "needs_background": "light"
     },
     "output_type": "display_data"
    }
   ],
   "source": [
    "## Test-Train Split\n",
    "X = crop_data[['V1', 'V2', 'V3', 'V6', 'V7', 'NDVI', 'NDVI_sk']]\n",
    "y = crop_data[['Crop']]\n",
    "\n",
    "X_train, X_test, y_train, y_test = train_test_split(X, y, test_size=1/3,random_state=0)\n",
    "\n",
    "SVM=SVC(C=10, kernel='rbf',cache_size=600)\n",
    "\n",
    "startTime=time.time()\n",
    "# this is where we fit the model  \n",
    "SVM.fit(X_train,y_train.values.ravel())\n",
    "lapsedTime = time.time() - startTime\n",
    "print('time:',lapsedTime,' sec' )\n",
    "\n",
    "startTime=time.time()\n",
    "# this is where we fit the model  \n",
    "yhat=SVM.predict(X_test)\n",
    "lapsedTime = time.time() - startTime\n",
    "print('time:',lapsedTime,' sec' )\n",
    "yhat[0:5]\n",
    "\n",
    "prf1=precision_recall_fscore_support(y_test,yhat)\n",
    "acc=accuracy_score(y_test,yhat)\n",
    "metric=pretty_metrics(precision_recall_fscore=prf1,accuracy_score=acc)\n",
    "\n",
    "target_names = ['Corn', 'Soybeans', 'Winter Wheat']\n",
    "plot_confusion_matrix(confusion_matrix(yhat,y_test),\n",
    "                      classes=target_names,title='Confusion matrix')"
   ]
  },
  {
   "cell_type": "markdown",
   "id": "b72c94bc",
   "metadata": {},
   "source": [
    "#### Classification: NDVI + Skew"
   ]
  },
  {
   "cell_type": "code",
   "execution_count": 16,
   "id": "985a9d5c",
   "metadata": {},
   "outputs": [
    {
     "name": "stdout",
     "output_type": "stream",
     "text": [
      "time: 0.015794992446899414  sec\n",
      "time: 0.014239311218261719  sec\n",
      "accuracy 0.6612903225806451\n",
      "precision 0.6268656716417911\n",
      "recall 0.8316831683168316\n",
      "F1 0.7148936170212766\n"
     ]
    }
   ],
   "source": [
    "## Test-Train Split\n",
    "X = crop_data[['NDVI', 'NDVI_sk']]\n",
    "y = crop_data[['Crop']]\n",
    "\n",
    "X_train, X_test, y_train, y_test = train_test_split(X, y, test_size=1/3,random_state=0)\n",
    "\n",
    "SVM=SVC(C=10, kernel='rbf',cache_size=600)\n",
    "\n",
    "startTime=time.time()\n",
    "# this is where we fit the model  \n",
    "SVM.fit(X_train,y_train.values.ravel())\n",
    "lapsedTime = time.time() - startTime\n",
    "print('time:',lapsedTime,' sec' )\n",
    "\n",
    "startTime=time.time()\n",
    "# this is where we fit the model  \n",
    "yhat=SVM.predict(X_test)\n",
    "lapsedTime = time.time() - startTime\n",
    "print('time:',lapsedTime,' sec' )\n",
    "yhat[0:5]\n",
    "\n",
    "prf1=precision_recall_fscore_support(y_test,yhat)\n",
    "acc=accuracy_score(y_test,yhat)\n",
    "metric=pretty_metrics(precision_recall_fscore=prf1,accuracy_score=acc)"
   ]
  },
  {
   "cell_type": "code",
   "execution_count": 17,
   "id": "e1d8349a",
   "metadata": {},
   "outputs": [
    {
     "name": "stdout",
     "output_type": "stream",
     "text": [
      "Confusion matrix, without normalization\n",
      "[[120  15  38]\n",
      " [ 22  84  28]\n",
      " [  0   2   1]]\n"
     ]
    },
    {
     "name": "stderr",
     "output_type": "stream",
     "text": [
      "C:\\Users\\debangs\\AppData\\Local\\Temp\\ipykernel_14584\\3038309493.py:12: MatplotlibDeprecationWarning: Auto-removal of grids by pcolor() and pcolormesh() is deprecated since 3.5 and will be removed two minor releases later; please call grid(False) first.\n",
      "  plt.colorbar()\n"
     ]
    },
    {
     "data": {
      "image/png": "[encoded data removed]",
      "text/plain": [
       "<Figure size 432x288 with 2 Axes>"
      ]
     },
     "metadata": {
      "needs_background": "light"
     },
     "output_type": "display_data"
    }
   ],
   "source": [
    "target_names = ['Corn', 'Soybeans', 'Winter Wheat']\n",
    "plot_confusion_matrix(confusion_matrix(yhat,y_test),\n",
    "                      classes=target_names,title='Confusion matrix')"
   ]
  },
  {
   "cell_type": "markdown",
   "id": "3a5d27c9",
   "metadata": {},
   "source": [
    "#### Grid Search Code - Raises Errors"
   ]
  },
  {
   "cell_type": "code",
   "execution_count": 9,
   "id": "aeccef45",
   "metadata": {},
   "outputs": [
    {
     "data": {
      "text/plain": [
       "GridSearchCV(cv=3, estimator=LinearSVC(), n_jobs=-1,\n",
       "             param_grid=[{'C': [0.01, 0.1, 1, 10]}], scoring='precision')"
      ]
     },
     "execution_count": 9,
     "metadata": {},
     "output_type": "execute_result"
    }
   ],
   "source": [
    "## Grid Search for Hyperparameters\n",
    "param_grid = [{'C': [0.01,0.1 ,1, 10 ]}]\n",
    "\n",
    "grid = GridSearchCV(LinearSVC(), cv=3, param_grid=param_grid,scoring=\"precision\",n_jobs=-1)\n",
    "grid"
   ]
  },
  {
   "cell_type": "code",
   "execution_count": 10,
   "id": "a65560e2",
   "metadata": {},
   "outputs": [
    {
     "name": "stdout",
     "output_type": "stream",
     "text": [
      "time: 3.6794745922088623  sec\n"
     ]
    },
    {
     "name": "stderr",
     "output_type": "stream",
     "text": [
      "C:\\Users\\debangs\\AppData\\Local\\Programs\\Python\\Python39\\lib\\site-packages\\sklearn\\model_selection\\_search.py:969: UserWarning: One or more of the test scores are non-finite: [nan nan nan nan]\n",
      "  warnings.warn(\n"
     ]
    },
    {
     "data": {
      "text/plain": [
       "{'C': 0.01}"
      ]
     },
     "execution_count": 10,
     "metadata": {},
     "output_type": "execute_result"
    }
   ],
   "source": [
    "startTime=time.time()\n",
    "\n",
    "## Set Crop to Int\n",
    "crop_data['Crop Int'] = crop_data['Crop'].replace(to_replace=['Corn', 'Soybeans', 'Winter Wheat'], value = [0,1,2])\n",
    "\n",
    "X = crop_data[['V1', 'V2', 'V3', 'V4', 'V5', 'V6', 'V7']]\n",
    "y = crop_data[['Crop Int']]\n",
    "X_train, X_test, y_train, y_test = train_test_split(X, y, test_size=1/3,random_state=0)\n",
    "\n",
    "grid.fit(X_train,y_train.values.ravel())\n",
    "lapsedTime = time.time() - startTime\n",
    "print('time:',lapsedTime,' sec' )\n",
    "grid.best_params_"
   ]
  },
  {
   "cell_type": "code",
   "execution_count": 11,
   "id": "14be6326",
   "metadata": {},
   "outputs": [
    {
     "data": {
      "text/plain": [
       "array([0, 0, 0, 0, 0], dtype=int64)"
      ]
     },
     "execution_count": 11,
     "metadata": {},
     "output_type": "execute_result"
    }
   ],
   "source": [
    "SVM=grid.best_estimator_\n",
    "yhat=SVM.predict(X_test)\n",
    "yhat[0:5]"
   ]
  },
  {
   "cell_type": "code",
   "execution_count": 12,
   "id": "c98a9a18",
   "metadata": {},
   "outputs": [
    {
     "name": "stdout",
     "output_type": "stream",
     "text": [
      "accuracy 0.45806451612903226\n",
      "precision 0.0\n",
      "recall 0.0\n",
      "F1 0.0\n"
     ]
    },
    {
     "name": "stderr",
     "output_type": "stream",
     "text": [
      "C:\\Users\\debangs\\AppData\\Local\\Programs\\Python\\Python39\\lib\\site-packages\\sklearn\\metrics\\_classification.py:1318: UndefinedMetricWarning: Precision and F-score are ill-defined and being set to 0.0 in labels with no predicted samples. Use `zero_division` parameter to control this behavior.\n",
      "  _warn_prf(average, modifier, msg_start, len(result))\n"
     ]
    }
   ],
   "source": [
    "prf1=precision_recall_fscore_support(y_test,yhat)\n",
    "acc=accuracy_score(y_test,yhat)\n",
    "metric=pretty_metrics(precision_recall_fscore=prf1,accuracy_score=acc)"
   ]
  },
  {
   "cell_type": "code",
   "execution_count": 13,
   "id": "c8b5b8a7",
   "metadata": {},
   "outputs": [
    {
     "data": {
      "text/html": [
       "<div>\n",
       "<style scoped>\n",
       "    .dataframe tbody tr th:only-of-type {\n",
       "        vertical-align: middle;\n",
       "    }\n",
       "\n",
       "    .dataframe tbody tr th {\n",
       "        vertical-align: top;\n",
       "    }\n",
       "\n",
       "    .dataframe thead th {\n",
       "        text-align: right;\n",
       "    }\n",
       "</style>\n",
       "<table border=\"1\" class=\"dataframe\">\n",
       "  <thead>\n",
       "    <tr style=\"text-align: right;\">\n",
       "      <th></th>\n",
       "      <th>X</th>\n",
       "      <th>V1</th>\n",
       "      <th>V2</th>\n",
       "      <th>V3</th>\n",
       "      <th>V4</th>\n",
       "      <th>V5</th>\n",
       "      <th>V6</th>\n",
       "      <th>V7</th>\n",
       "      <th>V8</th>\n",
       "      <th>Crop</th>\n",
       "      <th>NDVI_sd</th>\n",
       "      <th>NDVI_kt</th>\n",
       "      <th>NDVI_sk</th>\n",
       "      <th>NDVI</th>\n",
       "      <th>Crop Int</th>\n",
       "    </tr>\n",
       "  </thead>\n",
       "  <tbody>\n",
       "    <tr>\n",
       "      <th>0</th>\n",
       "      <td>1</td>\n",
       "      <td>0.08029</td>\n",
       "      <td>0.06889</td>\n",
       "      <td>0.05869</td>\n",
       "      <td>0.06374</td>\n",
       "      <td>0.10378</td>\n",
       "      <td>0.00082</td>\n",
       "      <td>0.12382</td>\n",
       "      <td>0.09167</td>\n",
       "      <td>Soybeans</td>\n",
       "      <td>0.007589</td>\n",
       "      <td>-0.652732</td>\n",
       "      <td>0.199005</td>\n",
       "      <td>0.238687</td>\n",
       "      <td>1</td>\n",
       "    </tr>\n",
       "    <tr>\n",
       "      <th>1</th>\n",
       "      <td>2</td>\n",
       "      <td>0.07644</td>\n",
       "      <td>0.06332</td>\n",
       "      <td>0.05888</td>\n",
       "      <td>0.04370</td>\n",
       "      <td>0.20840</td>\n",
       "      <td>0.00084</td>\n",
       "      <td>0.12492</td>\n",
       "      <td>0.06994</td>\n",
       "      <td>Corn</td>\n",
       "      <td>0.047886</td>\n",
       "      <td>0.441504</td>\n",
       "      <td>-0.213983</td>\n",
       "      <td>0.656629</td>\n",
       "      <td>0</td>\n",
       "    </tr>\n",
       "    <tr>\n",
       "      <th>2</th>\n",
       "      <td>3</td>\n",
       "      <td>0.07460</td>\n",
       "      <td>0.06156</td>\n",
       "      <td>0.05488</td>\n",
       "      <td>0.04416</td>\n",
       "      <td>0.18868</td>\n",
       "      <td>0.00096</td>\n",
       "      <td>0.11252</td>\n",
       "      <td>0.06026</td>\n",
       "      <td>Soybeans</td>\n",
       "      <td>0.075923</td>\n",
       "      <td>2.905492</td>\n",
       "      <td>-1.653555</td>\n",
       "      <td>0.619788</td>\n",
       "      <td>1</td>\n",
       "    </tr>\n",
       "    <tr>\n",
       "      <th>3</th>\n",
       "      <td>4</td>\n",
       "      <td>0.07514</td>\n",
       "      <td>0.06348</td>\n",
       "      <td>0.05306</td>\n",
       "      <td>0.05266</td>\n",
       "      <td>0.11797</td>\n",
       "      <td>0.00088</td>\n",
       "      <td>0.12423</td>\n",
       "      <td>0.08217</td>\n",
       "      <td>Corn</td>\n",
       "      <td>0.063182</td>\n",
       "      <td>-0.995496</td>\n",
       "      <td>-0.037232</td>\n",
       "      <td>0.380169</td>\n",
       "      <td>0</td>\n",
       "    </tr>\n",
       "    <tr>\n",
       "      <th>4</th>\n",
       "      <td>5</td>\n",
       "      <td>0.08060</td>\n",
       "      <td>0.06930</td>\n",
       "      <td>0.05936</td>\n",
       "      <td>0.06480</td>\n",
       "      <td>0.10532</td>\n",
       "      <td>0.00088</td>\n",
       "      <td>0.12530</td>\n",
       "      <td>0.09204</td>\n",
       "      <td>Soybeans</td>\n",
       "      <td>0.010109</td>\n",
       "      <td>-0.441190</td>\n",
       "      <td>0.433803</td>\n",
       "      <td>0.237682</td>\n",
       "      <td>1</td>\n",
       "    </tr>\n",
       "  </tbody>\n",
       "</table>\n",
       "</div>"
      ],
      "text/plain": [
       "   X       V1       V2       V3       V4       V5       V6       V7       V8  \\\n",
       "0  1  0.08029  0.06889  0.05869  0.06374  0.10378  0.00082  0.12382  0.09167   \n",
       "1  2  0.07644  0.06332  0.05888  0.04370  0.20840  0.00084  0.12492  0.06994   \n",
       "2  3  0.07460  0.06156  0.05488  0.04416  0.18868  0.00096  0.11252  0.06026   \n",
       "3  4  0.07514  0.06348  0.05306  0.05266  0.11797  0.00088  0.12423  0.08217   \n",
       "4  5  0.08060  0.06930  0.05936  0.06480  0.10532  0.00088  0.12530  0.09204   \n",
       "\n",
       "       Crop   NDVI_sd   NDVI_kt   NDVI_sk      NDVI  Crop Int  \n",
       "0  Soybeans  0.007589 -0.652732  0.199005  0.238687         1  \n",
       "1      Corn  0.047886  0.441504 -0.213983  0.656629         0  \n",
       "2  Soybeans  0.075923  2.905492 -1.653555  0.619788         1  \n",
       "3      Corn  0.063182 -0.995496 -0.037232  0.380169         0  \n",
       "4  Soybeans  0.010109 -0.441190  0.433803  0.237682         1  "
      ]
     },
     "execution_count": 13,
     "metadata": {},
     "output_type": "execute_result"
    }
   ],
   "source": [
    "crop_data.head()"
   ]
  },
  {
   "cell_type": "code",
   "execution_count": 14,
   "id": "ec02c528",
   "metadata": {},
   "outputs": [
    {
     "name": "stdout",
     "output_type": "stream",
     "text": [
      "Confusion matrix, without normalization\n",
      "[[142 101  67]\n",
      " [  0   0   0]\n",
      " [  0   0   0]]\n"
     ]
    },
    {
     "name": "stderr",
     "output_type": "stream",
     "text": [
      "C:\\Users\\debangs\\AppData\\Local\\Temp\\ipykernel_14584\\3038309493.py:12: MatplotlibDeprecationWarning: Auto-removal of grids by pcolor() and pcolormesh() is deprecated since 3.5 and will be removed two minor releases later; please call grid(False) first.\n",
      "  plt.colorbar()\n"
     ]
    },
    {
     "data": {
      "image/png": "[encoded data removed]",
      "text/plain": [
       "<Figure size 432x288 with 2 Axes>"
      ]
     },
     "metadata": {
      "needs_background": "light"
     },
     "output_type": "display_data"
    }
   ],
   "source": [
    "target_names = ['Corn', 'Soybeans', 'Winter Wheat']\n",
    "plot_confusion_matrix(confusion_matrix(yhat,y_test),\n",
    "                      classes=target_names,title='Confusion matrix')"
   ]
  },
  {
   "cell_type": "code",
   "execution_count": null,
   "id": "64cae3fe",
   "metadata": {},
   "outputs": [],
   "source": []
  }
 ],
 "metadata": {
  "kernelspec": {
   "display_name": "Python 3 (ipykernel)",
   "language": "python",
   "name": "python3"
  },
  "language_info": {
   "codemirror_mode": {
    "name": "ipython",
    "version": 3
   },
   "file_extension": ".py",
   "mimetype": "text/x-python",
   "name": "python",
   "nbconvert_exporter": "python",
   "pygments_lexer": "ipython3",
   "version": "3.9.7"
  }
 },
 "nbformat": 4,
 "nbformat_minor": 5
}
