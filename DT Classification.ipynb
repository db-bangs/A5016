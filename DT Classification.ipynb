{
 "cells": [
  {
   "cell_type": "markdown",
   "id": "46156fb0",
   "metadata": {},
   "source": [
    "#### ADMN 5016 Machine Learning Project\n",
    "#### Field-Bounded Crop Type Classification"
   ]
  },
  {
   "cell_type": "markdown",
   "id": "807cd24c",
   "metadata": {},
   "source": [
    "### Decision Tree Classification"
   ]
  },
  {
   "cell_type": "code",
   "execution_count": 21,
   "id": "8b48a03f",
   "metadata": {},
   "outputs": [],
   "source": [
    "## Initialize Libraries\n",
    "\n",
    "import pandas as pd\n",
    "import numpy as np\n",
    "from sklearn import preprocessing\n",
    "%matplotlib inline\n",
    "import matplotlib.pyplot as plt\n",
    "from sklearn import metrics\n",
    "import warnings\n",
    "warnings.filterwarnings(\"ignore\", category=DeprecationWarning) \n",
    "from tqdm import tqdm\n",
    "from  io import StringIO\n",
    "import pydotplus\n",
    "import graphviz\n",
    "import matplotlib.image as mpimg\n",
    "from sklearn import tree\n",
    "from sklearn.tree import DecisionTreeClassifier\n",
    "from sklearn.ensemble import BaggingClassifier\n",
    "from sklearn.ensemble import RandomForestClassifier\n",
    "from sklearn.metrics import confusion_matrix\n",
    "import itertools"
   ]
  },
  {
   "cell_type": "code",
   "execution_count": 18,
   "id": "b6fd12c6",
   "metadata": {},
   "outputs": [],
   "source": [
    "## Define Decision Tree Functions\n",
    "def get_accuracy(X_train, X_test, y_train, y_test, model):\n",
    "    return  {\"test Accuracy\":metrics.accuracy_score(y_test, model.predict(X_test)),\"train Accuracy\": metrics.accuracy_score(y_train, model.predict(X_train))}\n",
    "\n",
    "def plot_tree(model,filename = \"tree.png\"):\n",
    "    #global churn_df \n",
    "\n",
    "    dot_data = StringIO()\n",
    "  \n",
    "\n",
    "    featureNames = [colunm  for colunm in crop_data[['V1', 'V2', 'V3', 'V4', 'V5', 'V6', 'V7', 'V8']].columns]\n",
    "    out=tree.export_graphviz(model,feature_names=featureNames, out_file=dot_data, class_names= ['left','stay'], filled=True,  special_characters=True,rotate=False)  \n",
    "    graph = pydotplus.graph_from_dot_data(dot_data.getvalue())  \n",
    "    graph.write_png(filename)\n",
    "    img = mpimg.imread(filename)\n",
    "    plt.figure(figsize=(100, 200))\n",
    "    plt.imshow(img,interpolation='nearest')\n",
    "    \n",
    "def get_accuracy_bag(X,y,title,times=20,xlabel='Number Estimators'):\n",
    "    #Iterate through different number of estimators and average out the results  \n",
    "\n",
    "\n",
    "    N_estimators=[n for n in range(1,70)]\n",
    "    times=20\n",
    "    train_acc=np.zeros((times,len(N_estimators)))\n",
    "    test_acc=np.zeros((times,len(N_estimators)))\n",
    "    \n",
    "    train_time=np.zeros((times,len(N_estimators)))\n",
    "    test_time=np.zeros((times,len(N_estimators)))\n",
    "     #average out the results\n",
    "    for n in tqdm(range(times)):\n",
    "        X_train, X_test, y_train, y_test = train_test_split( X, y, test_size=0.3)\n",
    "        for n_estimators in N_estimators:\n",
    "            #Iterate through different number of estimators and average out the results   \n",
    "        \n",
    "            Bag= BaggingClassifier(base_estimator=DecisionTreeClassifier(criterion=\"entropy\", max_depth = 10),n_estimators=n_estimators,bootstrap=True,random_state=0)\n",
    "            Bag.fit(X_train,y_train)\n",
    "          \n",
    "            Accuracy=get_accuracy(X_train, X_test, y_train, y_test,  Bag)\n",
    "  \n",
    "            train_acc[n,n_estimators-1]=Accuracy['train Accuracy']\n",
    "            test_acc[n,n_estimators-1]=Accuracy['test Accuracy']\n",
    "        \n",
    "        \n",
    "        \n",
    "    fig, ax1 = plt.subplots()\n",
    "\n",
    "    ax2 = ax1.twinx()\n",
    "    ax1.plot(train_acc.mean(axis=0))\n",
    "    ax2.plot(test_acc.mean(axis=0),c='r')\n",
    "    ax1.set_xlabel(xlabel)\n",
    "    ax1.set_ylabel('Training accuracy',color='b')\n",
    "    ax2.set_ylabel('Testing accuracy', color='r')\n",
    "    plt.title(title)\n",
    "    plt.show()\n",
    "    \n",
    "     \n",
    "    "
   ]
  },
  {
   "cell_type": "code",
   "execution_count": 19,
   "id": "059707c9",
   "metadata": {},
   "outputs": [],
   "source": [
    "## Define Confusion Matrix Function\n",
    "def plot_confusion_matrix(cm, classes,\n",
    "                          normalize=False,\n",
    "                          title='Confusion matrix',\n",
    "                          cmap=plt.cm.Blues):\n",
    "    \"\"\"\n",
    "    This function prints and plots the confusion matrix.\n",
    "    Normalization can be applied by setting `normalize=True`.\n",
    "    \"\"\"\n",
    "    plt.imshow(cm, interpolation='nearest', cmap=cmap)\n",
    "    plt.title(title)\n",
    "    plt.colorbar()\n",
    "    tick_marks = np.arange(len(classes))\n",
    "    plt.xticks(tick_marks, classes, rotation=45)\n",
    "    plt.yticks(tick_marks, classes)\n",
    "\n",
    "    if normalize:\n",
    "        cm = cm.astype('float') / cm.sum(axis=1)[:, np.newaxis]\n",
    "        print(\"Normalized confusion matrix\")\n",
    "    else:\n",
    "        print('Confusion matrix, without normalization')\n",
    "\n",
    "    print(cm)\n",
    "\n",
    "    thresh = 3*cm.max()/4\n",
    "    for i, j in itertools.product(range(cm.shape[0]), range(cm.shape[1])):\n",
    "        plt.text(j, i, cm[i, j],\n",
    "                 horizontalalignment=\"center\",\n",
    "                 color=\"white\" if cm[i, j] > thresh else \"black\")\n",
    "\n",
    "    plt.tight_layout()\n",
    "    plt.ylabel('True label')\n",
    "    plt.xlabel('Predicted label')"
   ]
  },
  {
   "cell_type": "code",
   "execution_count": 4,
   "id": "0c0361c5",
   "metadata": {},
   "outputs": [
    {
     "data": {
      "text/html": [
       "<div>\n",
       "<style scoped>\n",
       "    .dataframe tbody tr th:only-of-type {\n",
       "        vertical-align: middle;\n",
       "    }\n",
       "\n",
       "    .dataframe tbody tr th {\n",
       "        vertical-align: top;\n",
       "    }\n",
       "\n",
       "    .dataframe thead th {\n",
       "        text-align: right;\n",
       "    }\n",
       "</style>\n",
       "<table border=\"1\" class=\"dataframe\">\n",
       "  <thead>\n",
       "    <tr style=\"text-align: right;\">\n",
       "      <th></th>\n",
       "      <th>X</th>\n",
       "      <th>V1</th>\n",
       "      <th>V2</th>\n",
       "      <th>V3</th>\n",
       "      <th>V4</th>\n",
       "      <th>V5</th>\n",
       "      <th>V6</th>\n",
       "      <th>V7</th>\n",
       "      <th>V8</th>\n",
       "      <th>Crop</th>\n",
       "      <th>NDVI_sd</th>\n",
       "      <th>NDVI_kt</th>\n",
       "      <th>NDVI_sk</th>\n",
       "      <th>NDVI</th>\n",
       "    </tr>\n",
       "  </thead>\n",
       "  <tbody>\n",
       "    <tr>\n",
       "      <th>0</th>\n",
       "      <td>1</td>\n",
       "      <td>0.08029</td>\n",
       "      <td>0.06889</td>\n",
       "      <td>0.05869</td>\n",
       "      <td>0.06374</td>\n",
       "      <td>0.10378</td>\n",
       "      <td>0.00082</td>\n",
       "      <td>0.12382</td>\n",
       "      <td>0.09167</td>\n",
       "      <td>Soybeans</td>\n",
       "      <td>0.007589</td>\n",
       "      <td>-0.652732</td>\n",
       "      <td>0.199005</td>\n",
       "      <td>0.238687</td>\n",
       "    </tr>\n",
       "    <tr>\n",
       "      <th>1</th>\n",
       "      <td>2</td>\n",
       "      <td>0.07644</td>\n",
       "      <td>0.06332</td>\n",
       "      <td>0.05888</td>\n",
       "      <td>0.04370</td>\n",
       "      <td>0.20840</td>\n",
       "      <td>0.00084</td>\n",
       "      <td>0.12492</td>\n",
       "      <td>0.06994</td>\n",
       "      <td>Corn</td>\n",
       "      <td>0.047886</td>\n",
       "      <td>0.441504</td>\n",
       "      <td>-0.213983</td>\n",
       "      <td>0.656629</td>\n",
       "    </tr>\n",
       "    <tr>\n",
       "      <th>2</th>\n",
       "      <td>3</td>\n",
       "      <td>0.07460</td>\n",
       "      <td>0.06156</td>\n",
       "      <td>0.05488</td>\n",
       "      <td>0.04416</td>\n",
       "      <td>0.18868</td>\n",
       "      <td>0.00096</td>\n",
       "      <td>0.11252</td>\n",
       "      <td>0.06026</td>\n",
       "      <td>Soybeans</td>\n",
       "      <td>0.075923</td>\n",
       "      <td>2.905492</td>\n",
       "      <td>-1.653555</td>\n",
       "      <td>0.619788</td>\n",
       "    </tr>\n",
       "    <tr>\n",
       "      <th>3</th>\n",
       "      <td>4</td>\n",
       "      <td>0.07514</td>\n",
       "      <td>0.06348</td>\n",
       "      <td>0.05306</td>\n",
       "      <td>0.05266</td>\n",
       "      <td>0.11797</td>\n",
       "      <td>0.00088</td>\n",
       "      <td>0.12423</td>\n",
       "      <td>0.08217</td>\n",
       "      <td>Corn</td>\n",
       "      <td>0.063182</td>\n",
       "      <td>-0.995496</td>\n",
       "      <td>-0.037232</td>\n",
       "      <td>0.380169</td>\n",
       "    </tr>\n",
       "    <tr>\n",
       "      <th>4</th>\n",
       "      <td>5</td>\n",
       "      <td>0.08060</td>\n",
       "      <td>0.06930</td>\n",
       "      <td>0.05936</td>\n",
       "      <td>0.06480</td>\n",
       "      <td>0.10532</td>\n",
       "      <td>0.00088</td>\n",
       "      <td>0.12530</td>\n",
       "      <td>0.09204</td>\n",
       "      <td>Soybeans</td>\n",
       "      <td>0.010109</td>\n",
       "      <td>-0.441190</td>\n",
       "      <td>0.433803</td>\n",
       "      <td>0.237682</td>\n",
       "    </tr>\n",
       "  </tbody>\n",
       "</table>\n",
       "</div>"
      ],
      "text/plain": [
       "   X       V1       V2       V3       V4       V5       V6       V7       V8  \\\n",
       "0  1  0.08029  0.06889  0.05869  0.06374  0.10378  0.00082  0.12382  0.09167   \n",
       "1  2  0.07644  0.06332  0.05888  0.04370  0.20840  0.00084  0.12492  0.06994   \n",
       "2  3  0.07460  0.06156  0.05488  0.04416  0.18868  0.00096  0.11252  0.06026   \n",
       "3  4  0.07514  0.06348  0.05306  0.05266  0.11797  0.00088  0.12423  0.08217   \n",
       "4  5  0.08060  0.06930  0.05936  0.06480  0.10532  0.00088  0.12530  0.09204   \n",
       "\n",
       "       Crop   NDVI_sd   NDVI_kt   NDVI_sk      NDVI  \n",
       "0  Soybeans  0.007589 -0.652732  0.199005  0.238687  \n",
       "1      Corn  0.047886  0.441504 -0.213983  0.656629  \n",
       "2  Soybeans  0.075923  2.905492 -1.653555  0.619788  \n",
       "3      Corn  0.063182 -0.995496 -0.037232  0.380169  \n",
       "4  Soybeans  0.010109 -0.441190  0.433803  0.237682  "
      ]
     },
     "execution_count": 4,
     "metadata": {},
     "output_type": "execute_result"
    }
   ],
   "source": [
    "## Load the CSV file\n",
    "data_file = 'https://raw.githubusercontent.com/db-bangs/A5016/main/d20130924_refl_ndvi_sk.csv'\n",
    "crop_data = pd.read_csv(data_file, sep = \",\")\n",
    "crop_data.head()"
   ]
  },
  {
   "cell_type": "code",
   "execution_count": 5,
   "id": "9395552e",
   "metadata": {},
   "outputs": [
    {
     "data": {
      "text/plain": [
       "(928, 14)"
      ]
     },
     "execution_count": 5,
     "metadata": {},
     "output_type": "execute_result"
    }
   ],
   "source": [
    "crop_data.shape"
   ]
  },
  {
   "cell_type": "code",
   "execution_count": 6,
   "id": "2acad063",
   "metadata": {},
   "outputs": [
    {
     "name": "stdout",
     "output_type": "stream",
     "text": [
      "<class 'pandas.core.frame.DataFrame'>\n",
      "RangeIndex: 928 entries, 0 to 927\n",
      "Data columns (total 14 columns):\n",
      " #   Column   Non-Null Count  Dtype  \n",
      "---  ------   --------------  -----  \n",
      " 0   X        928 non-null    int64  \n",
      " 1   V1       928 non-null    float64\n",
      " 2   V2       928 non-null    float64\n",
      " 3   V3       928 non-null    float64\n",
      " 4   V4       928 non-null    float64\n",
      " 5   V5       928 non-null    float64\n",
      " 6   V6       928 non-null    float64\n",
      " 7   V7       928 non-null    float64\n",
      " 8   V8       928 non-null    float64\n",
      " 9   Crop     928 non-null    object \n",
      " 10  NDVI_sd  928 non-null    float64\n",
      " 11  NDVI_kt  928 non-null    float64\n",
      " 12  NDVI_sk  928 non-null    float64\n",
      " 13  NDVI     928 non-null    float64\n",
      "dtypes: float64(12), int64(1), object(1)\n",
      "memory usage: 101.6+ KB\n"
     ]
    }
   ],
   "source": [
    "crop_data.info()"
   ]
  },
  {
   "cell_type": "code",
   "execution_count": 7,
   "id": "a38e95ac",
   "metadata": {},
   "outputs": [
    {
     "data": {
      "text/html": [
       "<div>\n",
       "<style scoped>\n",
       "    .dataframe tbody tr th:only-of-type {\n",
       "        vertical-align: middle;\n",
       "    }\n",
       "\n",
       "    .dataframe tbody tr th {\n",
       "        vertical-align: top;\n",
       "    }\n",
       "\n",
       "    .dataframe thead th {\n",
       "        text-align: right;\n",
       "    }\n",
       "</style>\n",
       "<table border=\"1\" class=\"dataframe\">\n",
       "  <thead>\n",
       "    <tr style=\"text-align: right;\">\n",
       "      <th></th>\n",
       "      <th>X</th>\n",
       "      <th>V1</th>\n",
       "      <th>V2</th>\n",
       "      <th>V3</th>\n",
       "      <th>V4</th>\n",
       "      <th>V5</th>\n",
       "      <th>V6</th>\n",
       "      <th>V7</th>\n",
       "      <th>V8</th>\n",
       "      <th>NDVI_sd</th>\n",
       "      <th>NDVI_kt</th>\n",
       "      <th>NDVI_sk</th>\n",
       "      <th>NDVI</th>\n",
       "    </tr>\n",
       "  </thead>\n",
       "  <tbody>\n",
       "    <tr>\n",
       "      <th>count</th>\n",
       "      <td>928.000000</td>\n",
       "      <td>928.000000</td>\n",
       "      <td>928.000000</td>\n",
       "      <td>928.000000</td>\n",
       "      <td>928.000000</td>\n",
       "      <td>928.000000</td>\n",
       "      <td>928.000000</td>\n",
       "      <td>928.000000</td>\n",
       "      <td>928.000000</td>\n",
       "      <td>928.000000</td>\n",
       "      <td>928.000000</td>\n",
       "      <td>928.000000</td>\n",
       "      <td>928.000000</td>\n",
       "    </tr>\n",
       "    <tr>\n",
       "      <th>mean</th>\n",
       "      <td>464.500000</td>\n",
       "      <td>0.076036</td>\n",
       "      <td>0.063659</td>\n",
       "      <td>0.056795</td>\n",
       "      <td>0.051032</td>\n",
       "      <td>0.169794</td>\n",
       "      <td>0.000874</td>\n",
       "      <td>0.122631</td>\n",
       "      <td>0.074797</td>\n",
       "      <td>0.049384</td>\n",
       "      <td>1.759221</td>\n",
       "      <td>-0.079885</td>\n",
       "      <td>0.496791</td>\n",
       "    </tr>\n",
       "    <tr>\n",
       "      <th>std</th>\n",
       "      <td>268.034824</td>\n",
       "      <td>0.003748</td>\n",
       "      <td>0.005075</td>\n",
       "      <td>0.005848</td>\n",
       "      <td>0.014016</td>\n",
       "      <td>0.060071</td>\n",
       "      <td>0.000079</td>\n",
       "      <td>0.021983</td>\n",
       "      <td>0.025037</td>\n",
       "      <td>0.046034</td>\n",
       "      <td>7.239673</td>\n",
       "      <td>1.315019</td>\n",
       "      <td>0.202607</td>\n",
       "    </tr>\n",
       "    <tr>\n",
       "      <th>min</th>\n",
       "      <td>1.000000</td>\n",
       "      <td>0.070460</td>\n",
       "      <td>0.055960</td>\n",
       "      <td>0.045130</td>\n",
       "      <td>0.026180</td>\n",
       "      <td>0.080540</td>\n",
       "      <td>0.000700</td>\n",
       "      <td>0.080260</td>\n",
       "      <td>0.034780</td>\n",
       "      <td>0.002546</td>\n",
       "      <td>-1.959873</td>\n",
       "      <td>-8.894867</td>\n",
       "      <td>0.177950</td>\n",
       "    </tr>\n",
       "    <tr>\n",
       "      <th>25%</th>\n",
       "      <td>232.750000</td>\n",
       "      <td>0.073080</td>\n",
       "      <td>0.059542</td>\n",
       "      <td>0.053060</td>\n",
       "      <td>0.038915</td>\n",
       "      <td>0.118252</td>\n",
       "      <td>0.000820</td>\n",
       "      <td>0.104955</td>\n",
       "      <td>0.052910</td>\n",
       "      <td>0.018497</td>\n",
       "      <td>-0.603992</td>\n",
       "      <td>-0.676557</td>\n",
       "      <td>0.289876</td>\n",
       "    </tr>\n",
       "    <tr>\n",
       "      <th>50%</th>\n",
       "      <td>464.500000</td>\n",
       "      <td>0.075015</td>\n",
       "      <td>0.062820</td>\n",
       "      <td>0.055730</td>\n",
       "      <td>0.050535</td>\n",
       "      <td>0.155300</td>\n",
       "      <td>0.000860</td>\n",
       "      <td>0.121580</td>\n",
       "      <td>0.071655</td>\n",
       "      <td>0.035739</td>\n",
       "      <td>-0.035500</td>\n",
       "      <td>-0.109745</td>\n",
       "      <td>0.520237</td>\n",
       "    </tr>\n",
       "    <tr>\n",
       "      <th>75%</th>\n",
       "      <td>696.250000</td>\n",
       "      <td>0.078320</td>\n",
       "      <td>0.066600</td>\n",
       "      <td>0.059137</td>\n",
       "      <td>0.062227</td>\n",
       "      <td>0.210570</td>\n",
       "      <td>0.000920</td>\n",
       "      <td>0.135590</td>\n",
       "      <td>0.093765</td>\n",
       "      <td>0.061977</td>\n",
       "      <td>1.328060</td>\n",
       "      <td>0.476836</td>\n",
       "      <td>0.686082</td>\n",
       "    </tr>\n",
       "    <tr>\n",
       "      <th>max</th>\n",
       "      <td>928.000000</td>\n",
       "      <td>0.093840</td>\n",
       "      <td>0.087110</td>\n",
       "      <td>0.085400</td>\n",
       "      <td>0.102100</td>\n",
       "      <td>0.390620</td>\n",
       "      <td>0.001180</td>\n",
       "      <td>0.224000</td>\n",
       "      <td>0.164000</td>\n",
       "      <td>0.304040</td>\n",
       "      <td>106.891697</td>\n",
       "      <td>9.757025</td>\n",
       "      <td>0.870163</td>\n",
       "    </tr>\n",
       "  </tbody>\n",
       "</table>\n",
       "</div>"
      ],
      "text/plain": [
       "                X          V1          V2          V3          V4          V5  \\\n",
       "count  928.000000  928.000000  928.000000  928.000000  928.000000  928.000000   \n",
       "mean   464.500000    0.076036    0.063659    0.056795    0.051032    0.169794   \n",
       "std    268.034824    0.003748    0.005075    0.005848    0.014016    0.060071   \n",
       "min      1.000000    0.070460    0.055960    0.045130    0.026180    0.080540   \n",
       "25%    232.750000    0.073080    0.059542    0.053060    0.038915    0.118252   \n",
       "50%    464.500000    0.075015    0.062820    0.055730    0.050535    0.155300   \n",
       "75%    696.250000    0.078320    0.066600    0.059137    0.062227    0.210570   \n",
       "max    928.000000    0.093840    0.087110    0.085400    0.102100    0.390620   \n",
       "\n",
       "               V6          V7          V8     NDVI_sd     NDVI_kt     NDVI_sk  \\\n",
       "count  928.000000  928.000000  928.000000  928.000000  928.000000  928.000000   \n",
       "mean     0.000874    0.122631    0.074797    0.049384    1.759221   -0.079885   \n",
       "std      0.000079    0.021983    0.025037    0.046034    7.239673    1.315019   \n",
       "min      0.000700    0.080260    0.034780    0.002546   -1.959873   -8.894867   \n",
       "25%      0.000820    0.104955    0.052910    0.018497   -0.603992   -0.676557   \n",
       "50%      0.000860    0.121580    0.071655    0.035739   -0.035500   -0.109745   \n",
       "75%      0.000920    0.135590    0.093765    0.061977    1.328060    0.476836   \n",
       "max      0.001180    0.224000    0.164000    0.304040  106.891697    9.757025   \n",
       "\n",
       "             NDVI  \n",
       "count  928.000000  \n",
       "mean     0.496791  \n",
       "std      0.202607  \n",
       "min      0.177950  \n",
       "25%      0.289876  \n",
       "50%      0.520237  \n",
       "75%      0.686082  \n",
       "max      0.870163  "
      ]
     },
     "execution_count": 7,
     "metadata": {},
     "output_type": "execute_result"
    }
   ],
   "source": [
    "crop_data.describe()"
   ]
  },
  {
   "cell_type": "code",
   "execution_count": 8,
   "id": "07cccefa",
   "metadata": {},
   "outputs": [
    {
     "data": {
      "text/plain": [
       "array([[<AxesSubplot:title={'center':'X'}>,\n",
       "        <AxesSubplot:title={'center':'V1'}>,\n",
       "        <AxesSubplot:title={'center':'V2'}>,\n",
       "        <AxesSubplot:title={'center':'V3'}>],\n",
       "       [<AxesSubplot:title={'center':'V4'}>,\n",
       "        <AxesSubplot:title={'center':'V5'}>,\n",
       "        <AxesSubplot:title={'center':'V6'}>,\n",
       "        <AxesSubplot:title={'center':'V7'}>],\n",
       "       [<AxesSubplot:title={'center':'V8'}>,\n",
       "        <AxesSubplot:title={'center':'NDVI_sd'}>,\n",
       "        <AxesSubplot:title={'center':'NDVI_kt'}>,\n",
       "        <AxesSubplot:title={'center':'NDVI_sk'}>],\n",
       "       [<AxesSubplot:title={'center':'NDVI'}>, <AxesSubplot:>,\n",
       "        <AxesSubplot:>, <AxesSubplot:>]], dtype=object)"
      ]
     },
     "execution_count": 8,
     "metadata": {},
     "output_type": "execute_result"
    },
    {
     "data": {
      "image/png": "[encoded data removed]",
      "text/plain": [
       "<Figure size 432x288 with 16 Axes>"
      ]
     },
     "metadata": {
      "needs_background": "light"
     },
     "output_type": "display_data"
    }
   ],
   "source": [
    "crop_data.hist()"
   ]
  },
  {
   "cell_type": "markdown",
   "id": "4585a81a",
   "metadata": {},
   "source": [
    "#### Classification: Reflectance Bands Only"
   ]
  },
  {
   "cell_type": "code",
   "execution_count": 22,
   "id": "44f6d93f",
   "metadata": {},
   "outputs": [
    {
     "name": "stdout",
     "output_type": "stream",
     "text": [
      "training data size: 618\n",
      "testing data size: 310\n",
      "Confusion matrix, without normalization\n",
      "[[121   4   4]\n",
      " [  9  74  14]\n",
      " [ 16   0  37]]\n"
     ]
    },
    {
     "data": {
      "image/png": "[encoded data removed]",
      "text/plain": [
       "<Figure size 432x288 with 2 Axes>"
      ]
     },
     "metadata": {
      "needs_background": "light"
     },
     "output_type": "display_data"
    }
   ],
   "source": [
    "# Define X predictors - Reflectance Data Only\n",
    "X = crop_data[['V1', 'V2', 'V3', 'V4', 'V5', 'V6', 'V7']]\n",
    "X.head()\n",
    "\n",
    "# Define y crops\n",
    "y = crop_data[['Crop']]\n",
    "y.head()\n",
    "\n",
    "# Partition Training and Testing Data\n",
    "from sklearn.model_selection import train_test_split\n",
    "X_train, X_test, y_train, y_test = train_test_split(X, y, test_size=1/3,random_state=0)\n",
    "print('training data size:',X_train.shape[0])\n",
    "print('testing data size:',X_test.shape[0])\n",
    "\n",
    "## Build a Tree with Max Depth of 5\n",
    "max_depth=5\n",
    "X_train, X_test, y_train, y_test = train_test_split( X, y, test_size=0.3, random_state=10)\n",
    "Tree = DecisionTreeClassifier(criterion=\"entropy\", max_depth = max_depth,random_state=10)\n",
    "Tree\n",
    "Tree.fit(X_train,y_train)\n",
    "\n",
    "## Predict Class on the Testing Data\n",
    "yhat = Tree.predict(X_test)\n",
    "\n",
    "## Calculate Accuracy of Classification\n",
    "get_accuracy(X_train, X_test, y_train, y_test,  Tree)\n",
    "\n",
    "target_names = ['Corn', 'Soybeans', 'Winter Wheat']\n",
    "plot_confusion_matrix(confusion_matrix(yhat,y_test),\n",
    "                      classes=target_names,title='Confusion matrix')"
   ]
  },
  {
   "cell_type": "markdown",
   "id": "416dc20d",
   "metadata": {},
   "source": [
    "#### Classification: 5 Bands + NDVI"
   ]
  },
  {
   "cell_type": "code",
   "execution_count": 10,
   "id": "49f54b2b",
   "metadata": {},
   "outputs": [
    {
     "name": "stdout",
     "output_type": "stream",
     "text": [
      "training data size: 618\n",
      "testing data size: 310\n"
     ]
    },
    {
     "data": {
      "text/plain": [
       "{'test Accuracy': 0.8172043010752689, 'train Accuracy': 0.8705701078582434}"
      ]
     },
     "execution_count": 10,
     "metadata": {},
     "output_type": "execute_result"
    }
   ],
   "source": [
    "# Define X predictors - 5 Bands + NDVI\n",
    "X = crop_data[['V1', 'V2', 'V3', 'V6', 'V7', 'NDVI']]\n",
    "X.head()\n",
    "\n",
    "# Define y crops\n",
    "y = crop_data[['Crop']]\n",
    "y.head()\n",
    "\n",
    "# Partition Training and Testing Data\n",
    "from sklearn.model_selection import train_test_split\n",
    "X_train, X_test, y_train, y_test = train_test_split(X, y, test_size=1/3,random_state=0)\n",
    "print('training data size:',X_train.shape[0])\n",
    "print('testing data size:',X_test.shape[0])\n",
    "\n",
    "## Build a Tree with Max Depth of 5\n",
    "max_depth=5\n",
    "X_train, X_test, y_train, y_test = train_test_split( X, y, test_size=0.3, random_state=10)\n",
    "Tree = DecisionTreeClassifier(criterion=\"entropy\", max_depth = max_depth,random_state=10)\n",
    "Tree\n",
    "Tree.fit(X_train,y_train)\n",
    "\n",
    "## Predict Class on the Testing Data\n",
    "yhat = Tree.predict(X_test)\n",
    "\n",
    "## Calculate Accuracy of Classification\n",
    "get_accuracy(X_train, X_test, y_train, y_test,  Tree)"
   ]
  },
  {
   "cell_type": "markdown",
   "id": "09e40c50",
   "metadata": {},
   "source": [
    "#### Classification: 5 Bands + NDVI + Skew"
   ]
  },
  {
   "cell_type": "code",
   "execution_count": 11,
   "id": "e1f69404",
   "metadata": {},
   "outputs": [
    {
     "name": "stdout",
     "output_type": "stream",
     "text": [
      "training data size: 618\n",
      "testing data size: 310\n"
     ]
    },
    {
     "data": {
      "text/plain": [
       "{'test Accuracy': 0.8100358422939068, 'train Accuracy': 0.8736517719568567}"
      ]
     },
     "execution_count": 11,
     "metadata": {},
     "output_type": "execute_result"
    }
   ],
   "source": [
    "## Classify using NDVI and skewness and non-NDVI Bands\n",
    "# Define X predictors\n",
    "X = crop_data[['V1', 'V2', 'V3', 'V6', 'V7', 'NDVI', 'NDVI_sk']]\n",
    "y = crop_data[['Crop']]\n",
    "\n",
    "X_train, X_test, y_train, y_test = train_test_split(X, y, test_size=1/3,random_state=0)\n",
    "print('training data size:',X_train.shape[0])\n",
    "print('testing data size:',X_test.shape[0])\n",
    "\n",
    "max_depth=5\n",
    "X_train, X_test, y_train, y_test = train_test_split( X, y, test_size=0.3, random_state=10)\n",
    "Tree = DecisionTreeClassifier(criterion=\"entropy\", max_depth = max_depth,random_state=10)\n",
    "Tree\n",
    "Tree.fit(X_train,y_train)\n",
    "\n",
    "yhat = Tree.predict(X_test)\n",
    "yhat\n",
    "\n",
    "get_accuracy(X_train, X_test, y_train, y_test,  Tree)"
   ]
  },
  {
   "cell_type": "markdown",
   "id": "9692f49b",
   "metadata": {},
   "source": [
    "#### Classification: NDVI + Skew"
   ]
  },
  {
   "cell_type": "code",
   "execution_count": 12,
   "id": "d168c688",
   "metadata": {},
   "outputs": [
    {
     "name": "stdout",
     "output_type": "stream",
     "text": [
      "training data size: 618\n",
      "testing data size: 310\n"
     ]
    },
    {
     "data": {
      "text/plain": [
       "{'test Accuracy': 0.7598566308243727, 'train Accuracy': 0.7519260400616333}"
      ]
     },
     "execution_count": 12,
     "metadata": {},
     "output_type": "execute_result"
    }
   ],
   "source": [
    "## Classify using NDVI and skewness\n",
    "# Define X predictors - NDVI and NDVI Skewness Only\n",
    "X = crop_data[['NDVI', 'NDVI_sk']]\n",
    "y = crop_data[['Crop']]\n",
    "\n",
    "X_train, X_test, y_train, y_test = train_test_split(X, y, test_size=1/3,random_state=0)\n",
    "print('training data size:',X_train.shape[0])\n",
    "print('testing data size:',X_test.shape[0])\n",
    "\n",
    "max_depth=5\n",
    "X_train, X_test, y_train, y_test = train_test_split( X, y, test_size=0.3, random_state=10)\n",
    "Tree = DecisionTreeClassifier(criterion=\"entropy\", max_depth = max_depth,random_state=10)\n",
    "Tree\n",
    "Tree.fit(X_train,y_train)\n",
    "\n",
    "yhat = Tree.predict(X_test)\n",
    "\n",
    "get_accuracy(X_train, X_test, y_train, y_test,  Tree)"
   ]
  },
  {
   "cell_type": "code",
   "execution_count": null,
   "id": "b7c93ea4",
   "metadata": {},
   "outputs": [],
   "source": [
    "#plot_tree(filename = \"tree.png\",model=Tree)"
   ]
  },
  {
   "cell_type": "code",
   "execution_count": 13,
   "id": "0291160f",
   "metadata": {},
   "outputs": [
    {
     "name": "stdout",
     "output_type": "stream",
     "text": [
      "     Crop Int\n",
      "186         1\n",
      "346         0\n",
      "451         0\n",
      "622         0\n",
      "738         0\n",
      "..        ...\n",
      "835         2\n",
      "192         2\n",
      "629         2\n",
      "559         0\n",
      "684         1\n",
      "\n",
      "[618 rows x 1 columns]\n"
     ]
    }
   ],
   "source": [
    "crop_data['Crop Int'] = crop_data['Crop'].replace(to_replace=['Corn', 'Soybeans', 'Winter Wheat'], value = [0,1,2])\n",
    "\n",
    "X = crop_data[['V1', 'V2', 'V3', 'V4', 'V5', 'V6', 'V7']]\n",
    "y = crop_data[['Crop Int']]\n",
    "X_train, X_test, y_train, y_test = train_test_split(X, y, test_size=1/3,random_state=0)\n",
    "\n",
    "print(y_train)"
   ]
  },
  {
   "cell_type": "code",
   "execution_count": null,
   "id": "c6c60f72",
   "metadata": {},
   "outputs": [],
   "source": [
    "Bag = BaggingClassifier(base_estimator=DecisionTreeClassifier(criterion=\"entropy\", max_depth = 5,random_state=2),n_estimators=30,random_state=0,bootstrap=True)"
   ]
  },
  {
   "cell_type": "code",
   "execution_count": null,
   "id": "466adf7f",
   "metadata": {},
   "outputs": [],
   "source": [
    "Bag.fit(X_train,y_train.values.ravel())"
   ]
  },
  {
   "cell_type": "code",
   "execution_count": null,
   "id": "485421b7",
   "metadata": {},
   "outputs": [],
   "source": [
    "Bag.predict(X_test)"
   ]
  },
  {
   "cell_type": "code",
   "execution_count": null,
   "id": "e550a435",
   "metadata": {},
   "outputs": [],
   "source": [
    "print(get_accuracy(X_train, X_test, y_train, y_test,  Bag))"
   ]
  },
  {
   "cell_type": "code",
   "execution_count": null,
   "id": "904c8803",
   "metadata": {},
   "outputs": [],
   "source": [
    "get_accuracy_bag(X, y.values.ravel(), \"Crop Type Classification\")"
   ]
  },
  {
   "cell_type": "markdown",
   "id": "8e808637",
   "metadata": {},
   "source": [
    "#### Random Forest"
   ]
  },
  {
   "cell_type": "code",
   "execution_count": 32,
   "id": "79c02da5",
   "metadata": {},
   "outputs": [
    {
     "name": "stdout",
     "output_type": "stream",
     "text": [
      "{'test Accuracy': 0.8709677419354839, 'train Accuracy': 1.0}\n"
     ]
    }
   ],
   "source": [
    "n_estimators=100\n",
    "\n",
    "M_features=X.shape[1]\n",
    "max_features=round(np.sqrt(M_features))-1\n",
    "max_features\n",
    "\n",
    "model = RandomForestClassifier( max_features=max_features,n_estimators=n_estimators, random_state=0)\n",
    "model.fit(X_train,y_train.values.ravel())\n",
    "\n",
    "yhat = model.predict(X_test)\n",
    "yhat\n",
    "\n",
    "print(get_accuracy(X_train, X_test, y_train, y_test, model)) "
   ]
  },
  {
   "cell_type": "code",
   "execution_count": 33,
   "id": "c970f16c",
   "metadata": {},
   "outputs": [
    {
     "name": "stdout",
     "output_type": "stream",
     "text": [
      "Confusion matrix, without normalization\n",
      "[[125   0   5]\n",
      " [ 10  77   9]\n",
      " [ 11   1  41]]\n"
     ]
    },
    {
     "data": {
      "image/png": "[encoded data removed]",
      "text/plain": [
       "<Figure size 432x288 with 2 Axes>"
      ]
     },
     "metadata": {
      "needs_background": "light"
     },
     "output_type": "display_data"
    }
   ],
   "source": [
    "target_names = ['Corn', 'Soybeans', 'Winter Wheat']\n",
    "plot_confusion_matrix(confusion_matrix(yhat,y_test),\n",
    "                      classes=target_names,title='Confusion matrix')"
   ]
  }
 ],
 "metadata": {
  "kernelspec": {
   "display_name": "Python 3 (ipykernel)",
   "language": "python",
   "name": "python3"
  },
  "language_info": {
   "codemirror_mode": {
    "name": "ipython",
    "version": 3
   },
   "file_extension": ".py",
   "mimetype": "text/x-python",
   "name": "python",
   "nbconvert_exporter": "python",
   "pygments_lexer": "ipython3",
   "version": "3.9.7"
  }
 },
 "nbformat": 4,
 "nbformat_minor": 5
}
